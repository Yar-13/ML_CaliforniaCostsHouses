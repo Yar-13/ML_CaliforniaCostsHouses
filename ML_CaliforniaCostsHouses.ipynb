{
 "cells": [
  {
   "cell_type": "markdown",
   "metadata": {
    "pycharm": {
     "name": "#%% md\n"
    }
   },
   "source": [
    "# Описание проекта"
   ]
  },
  {
   "cell_type": "markdown",
   "metadata": {
    "pycharm": {
     "name": "#%% md\n"
    }
   },
   "source": [
    "В проекте нужно обучить модель линейной регрессии на данных о жилье в Калифорнии в 1990 году.\n",
    "На основе данных нужно предсказать медианную стоимость дома в жилом массиве — median_house_value. Мы Обучим модель и сделаем предсказания на тестовой выборке. Для оценки качества модели использовать метрики RMSE, MAE и R2.\n"
   ]
  },
  {
   "cell_type": "markdown",
   "metadata": {
    "pycharm": {
     "name": "#%% md\n"
    }
   },
   "source": [
    "# Описание данных"
   ]
  },
  {
   "cell_type": "markdown",
   "metadata": {
    "pycharm": {
     "name": "#%% md\n"
    }
   },
   "source": [
    "Данные были собраны в рамках переписи населения в США. Каждая строка содержит агрегированную статистику о жилом массиве. Жилой массив — минимальная географическая единица с населением от 600 до 3000 человек в зависимости от штата. Одна строка в данных содержит статистику в среднем о 1425.5 обитателях жилого массива.\n",
    "\n",
    "В колонках датасета содержатся следующие данные:\n",
    "\n",
    "- `longitude` — широта;\n",
    "- `latitude` — долгота;\n",
    "- `housing_median_age` — медианный возраст жителей жилого массива;\n",
    "- `total_rooms` — общее количество комнат в домах жилого массива;\n",
    "- `total_bedrooms` — общее количество спален в домах жилого массива;\n",
    "- `population` — количество человек, которые проживают в жилом массиве;\n",
    "- `households` — количество домовладений в жилом массиве;\n",
    "- `median_income` — медианный доход жителей жилого массива;\n",
    "- `median_house_value` — медианная стоимость дома в жилом массиве;\n",
    "- `ocean_proximity` — близость к океану.\n",
    "\n",
    "В большинстве колонок хранятся количественные данные, кроме одной — `ocean_proximity`. Она хранит категориальные значения."
   ]
  },
  {
   "cell_type": "markdown",
   "metadata": {
    "pycharm": {
     "name": "#%% md\n"
    }
   },
   "source": [
    "# Инициализация и загрузка"
   ]
  },
  {
   "cell_type": "raw",
   "metadata": {
    "pycharm": {
     "name": "#%%\n"
    }
   },
   "source": [
    "# ! pip install --upgrade pip\n",
    "# ! pip install -q --upgrade pandas\n",
    "# ! pip install -q --upgrade matplotlib\n",
    "# ! pip install -q --upgrade seaborn\n",
    "# ! pip install -q --upgrade numba\n",
    "! pip install -q --upgrade pyspark\n",
    "# ! pip install numpy==1.26.4"
   ]
  },
  {
   "cell_type": "code",
   "execution_count": 2,
   "metadata": {
    "pycharm": {
     "name": "#%%\n"
    }
   },
   "outputs": [],
   "source": [
    "import pyspark\n",
    "from pyspark.sql import SparkSession\n",
    "import pyspark.sql.functions as F\n",
    "from pyspark.sql import DataFrame\n",
    "\n",
    "from pyspark.ml.feature import StringIndexer, VectorAssembler, StandardScaler\n",
    "from pyspark.ml.regression import LinearRegression\n",
    "from pyspark.ml.evaluation import RegressionEvaluator\n",
    "\n",
    "pyspark_version = pyspark.__version__\n",
    "if int(pyspark_version[:1]) == 3:\n",
    "    from pyspark.ml.feature import OneHotEncoder\n",
    "    OneHotEncoder = OneHotEncoder\n",
    "elif int(pyspark_version[:1]) == 2:\n",
    "    from pyspark.ml.feature import OneHotEncodeEstimator\n",
    "    OneHotEncoder = OneHotEncodeEstimator\n",
    "\n",
    "RANDOM_SEED = 1337\n"
   ]
  },
  {
   "cell_type": "code",
   "execution_count": 3,
   "metadata": {
    "pycharm": {
     "name": "#%%\n"
    }
   },
   "outputs": [],
   "source": [
    "spark = SparkSession.builder.master('local').appName('MLR - linear regression').getOrCreate()"
   ]
  },
  {
   "cell_type": "code",
   "execution_count": 4,
   "metadata": {
    "pycharm": {
     "name": "#%%\n"
    }
   },
   "outputs": [],
   "source": [
    "try:\n",
    "    data = spark.read.option('header', 'true').csv('/datasets/housing.csv', inferSchema=True)\n",
    "except Exception:\n",
    "    data = spark.read.option('header', 'true').csv('housing.csv', inferSchema=True)"
   ]
  },
  {
   "cell_type": "code",
   "execution_count": 5,
   "metadata": {
    "pycharm": {
     "name": "#%%\n"
    }
   },
   "outputs": [
    {
     "name": "stdout",
     "output_type": "stream",
     "text": [
      "root\n",
      " |-- longitude: double (nullable = true)\n",
      " |-- latitude: double (nullable = true)\n",
      " |-- housing_median_age: double (nullable = true)\n",
      " |-- total_rooms: double (nullable = true)\n",
      " |-- total_bedrooms: double (nullable = true)\n",
      " |-- population: double (nullable = true)\n",
      " |-- households: double (nullable = true)\n",
      " |-- median_income: double (nullable = true)\n",
      " |-- median_house_value: double (nullable = true)\n",
      " |-- ocean_proximity: string (nullable = true)\n",
      "\n"
     ]
    }
   ],
   "source": [
    "# посмотрим как прочитались данные\n",
    "data.printSchema()"
   ]
  },
  {
   "cell_type": "code",
   "execution_count": 6,
   "metadata": {
    "pycharm": {
     "name": "#%%\n"
    }
   },
   "outputs": [
    {
     "name": "stdout",
     "output_type": "stream",
     "text": [
      "Общее количество строк: 20640\n"
     ]
    }
   ],
   "source": [
    "print('Общее количество строк:', data.count())"
   ]
  },
  {
   "cell_type": "markdown",
   "metadata": {
    "pycharm": {
     "name": "#%% md\n"
    }
   },
   "source": [
    "# Предобработка данных"
   ]
  },
  {
   "cell_type": "code",
   "execution_count": 7,
   "metadata": {
    "pycharm": {
     "name": "#%%\n"
    }
   },
   "outputs": [
    {
     "name": "stdout",
     "output_type": "stream",
     "text": [
      "+---------+--------+------------------+-----------+--------------+----------+----------+-------------+------------------+---------------+\n",
      "|longitude|latitude|housing_median_age|total_rooms|total_bedrooms|population|households|median_income|median_house_value|ocean_proximity|\n",
      "+---------+--------+------------------+-----------+--------------+----------+----------+-------------+------------------+---------------+\n",
      "|  -122.23|   37.88|              41.0|      880.0|         129.0|     322.0|     126.0|       8.3252|          452600.0|       NEAR BAY|\n",
      "|  -122.22|   37.86|              21.0|     7099.0|        1106.0|    2401.0|    1138.0|       8.3014|          358500.0|       NEAR BAY|\n",
      "|  -122.24|   37.85|              52.0|     1467.0|         190.0|     496.0|     177.0|       7.2574|          352100.0|       NEAR BAY|\n",
      "|  -122.25|   37.85|              52.0|     1274.0|         235.0|     558.0|     219.0|       5.6431|          341300.0|       NEAR BAY|\n",
      "|  -122.25|   37.85|              52.0|     1627.0|         280.0|     565.0|     259.0|       3.8462|          342200.0|       NEAR BAY|\n",
      "+---------+--------+------------------+-----------+--------------+----------+----------+-------------+------------------+---------------+\n",
      "only showing top 5 rows\n",
      "\n"
     ]
    }
   ],
   "source": [
    "data.show(5)"
   ]
  },
  {
   "cell_type": "code",
   "execution_count": 8,
   "metadata": {
    "pycharm": {
     "name": "#%%\n"
    }
   },
   "outputs": [
    {
     "data": {
      "text/html": [
       "<div>\n",
       "<style scoped>\n",
       "    .dataframe tbody tr th:only-of-type {\n",
       "        vertical-align: middle;\n",
       "    }\n",
       "\n",
       "    .dataframe tbody tr th {\n",
       "        vertical-align: top;\n",
       "    }\n",
       "\n",
       "    .dataframe thead th {\n",
       "        text-align: right;\n",
       "    }\n",
       "</style>\n",
       "<table border=\"1\" class=\"dataframe\">\n",
       "  <thead>\n",
       "    <tr style=\"text-align: right;\">\n",
       "      <th></th>\n",
       "      <th>col</th>\n",
       "      <th>count of nan values</th>\n",
       "    </tr>\n",
       "  </thead>\n",
       "  <tbody>\n",
       "    <tr>\n",
       "      <th>0</th>\n",
       "      <td>longitude</td>\n",
       "      <td>0</td>\n",
       "    </tr>\n",
       "    <tr>\n",
       "      <th>1</th>\n",
       "      <td>latitude</td>\n",
       "      <td>0</td>\n",
       "    </tr>\n",
       "    <tr>\n",
       "      <th>2</th>\n",
       "      <td>housing_median_age</td>\n",
       "      <td>0</td>\n",
       "    </tr>\n",
       "    <tr>\n",
       "      <th>3</th>\n",
       "      <td>total_rooms</td>\n",
       "      <td>0</td>\n",
       "    </tr>\n",
       "    <tr>\n",
       "      <th>4</th>\n",
       "      <td>total_bedrooms</td>\n",
       "      <td>207</td>\n",
       "    </tr>\n",
       "    <tr>\n",
       "      <th>5</th>\n",
       "      <td>population</td>\n",
       "      <td>0</td>\n",
       "    </tr>\n",
       "    <tr>\n",
       "      <th>6</th>\n",
       "      <td>households</td>\n",
       "      <td>0</td>\n",
       "    </tr>\n",
       "    <tr>\n",
       "      <th>7</th>\n",
       "      <td>median_income</td>\n",
       "      <td>0</td>\n",
       "    </tr>\n",
       "    <tr>\n",
       "      <th>8</th>\n",
       "      <td>median_house_value</td>\n",
       "      <td>0</td>\n",
       "    </tr>\n",
       "    <tr>\n",
       "      <th>9</th>\n",
       "      <td>ocean_proximity</td>\n",
       "      <td>0</td>\n",
       "    </tr>\n",
       "  </tbody>\n",
       "</table>\n",
       "</div>"
      ],
      "text/plain": [
       "                  col  count of nan values\n",
       "0           longitude                    0\n",
       "1            latitude                    0\n",
       "2  housing_median_age                    0\n",
       "3         total_rooms                    0\n",
       "4      total_bedrooms                  207\n",
       "5          population                    0\n",
       "6          households                    0\n",
       "7       median_income                    0\n",
       "8  median_house_value                    0\n",
       "9     ocean_proximity                    0"
      ]
     },
     "execution_count": 8,
     "metadata": {},
     "output_type": "execute_result"
    }
   ],
   "source": [
    "data.select([F.count(F.when(F.isnan(c) | F.col(c).isNull(), c)).alias(c) for c in data.columns]).toPandas().transpose().reset_index().rename(columns={'index':'col', 0:'count of nan values'})\n",
    "\n",
    "# пропуски имеет только поле total_bedrooms"
   ]
  },
  {
   "cell_type": "code",
   "execution_count": 9,
   "metadata": {
    "pycharm": {
     "name": "#%%\n"
    }
   },
   "outputs": [
    {
     "name": "stdout",
     "output_type": "stream",
     "text": [
      "Количество уникальных строк в датасете: 20640\n"
     ]
    }
   ],
   "source": [
    "print('Количество уникальных строк в датасете:', data.distinct().count())\n",
    "# Видно, что полных дубликатов в датасете нет"
   ]
  },
  {
   "cell_type": "code",
   "execution_count": 10,
   "metadata": {
    "pycharm": {
     "name": "#%%\n"
    }
   },
   "outputs": [],
   "source": [
    "df = data.fillna({'total_bedrooms' : data.select(F.median(F.col('total_bedrooms'))).collect()[0][0]})"
   ]
  },
  {
   "cell_type": "code",
   "execution_count": 11,
   "metadata": {
    "pycharm": {
     "name": "#%%\n"
    }
   },
   "outputs": [
    {
     "data": {
      "text/html": [
       "<div>\n",
       "<style scoped>\n",
       "    .dataframe tbody tr th:only-of-type {\n",
       "        vertical-align: middle;\n",
       "    }\n",
       "\n",
       "    .dataframe tbody tr th {\n",
       "        vertical-align: top;\n",
       "    }\n",
       "\n",
       "    .dataframe thead th {\n",
       "        text-align: right;\n",
       "    }\n",
       "</style>\n",
       "<table border=\"1\" class=\"dataframe\">\n",
       "  <thead>\n",
       "    <tr style=\"text-align: right;\">\n",
       "      <th></th>\n",
       "      <th>col</th>\n",
       "      <th>count of nan values</th>\n",
       "    </tr>\n",
       "  </thead>\n",
       "  <tbody>\n",
       "    <tr>\n",
       "      <th>0</th>\n",
       "      <td>longitude</td>\n",
       "      <td>0</td>\n",
       "    </tr>\n",
       "    <tr>\n",
       "      <th>1</th>\n",
       "      <td>latitude</td>\n",
       "      <td>0</td>\n",
       "    </tr>\n",
       "    <tr>\n",
       "      <th>2</th>\n",
       "      <td>housing_median_age</td>\n",
       "      <td>0</td>\n",
       "    </tr>\n",
       "    <tr>\n",
       "      <th>3</th>\n",
       "      <td>total_rooms</td>\n",
       "      <td>0</td>\n",
       "    </tr>\n",
       "    <tr>\n",
       "      <th>4</th>\n",
       "      <td>total_bedrooms</td>\n",
       "      <td>0</td>\n",
       "    </tr>\n",
       "    <tr>\n",
       "      <th>5</th>\n",
       "      <td>population</td>\n",
       "      <td>0</td>\n",
       "    </tr>\n",
       "    <tr>\n",
       "      <th>6</th>\n",
       "      <td>households</td>\n",
       "      <td>0</td>\n",
       "    </tr>\n",
       "    <tr>\n",
       "      <th>7</th>\n",
       "      <td>median_income</td>\n",
       "      <td>0</td>\n",
       "    </tr>\n",
       "    <tr>\n",
       "      <th>8</th>\n",
       "      <td>median_house_value</td>\n",
       "      <td>0</td>\n",
       "    </tr>\n",
       "    <tr>\n",
       "      <th>9</th>\n",
       "      <td>ocean_proximity</td>\n",
       "      <td>0</td>\n",
       "    </tr>\n",
       "  </tbody>\n",
       "</table>\n",
       "</div>"
      ],
      "text/plain": [
       "                  col  count of nan values\n",
       "0           longitude                    0\n",
       "1            latitude                    0\n",
       "2  housing_median_age                    0\n",
       "3         total_rooms                    0\n",
       "4      total_bedrooms                    0\n",
       "5          population                    0\n",
       "6          households                    0\n",
       "7       median_income                    0\n",
       "8  median_house_value                    0\n",
       "9     ocean_proximity                    0"
      ]
     },
     "execution_count": 11,
     "metadata": {},
     "output_type": "execute_result"
    }
   ],
   "source": [
    "df.select([F.count(F.when(F.isnan(c) | F.col(c).isNull(), c)).alias(c) for c in data.columns]).toPandas().transpose().reset_index().rename(columns={'index':'col', 0:'count of nan values'})"
   ]
  },
  {
   "cell_type": "markdown",
   "metadata": {
    "pycharm": {
     "name": "#%% md\n"
    }
   },
   "source": [
    "**Промежуточный вывод:**\n",
    "\n",
    "На этапе предобработки данных были обнаружены пропуски в данных и проверено наличие дубликатов."
   ]
  },
  {
   "cell_type": "markdown",
   "metadata": {
    "pycharm": {
     "name": "#%% md\n"
    }
   },
   "source": [
    "# Обучение"
   ]
  },
  {
   "cell_type": "code",
   "execution_count": 12,
   "metadata": {
    "pycharm": {
     "name": "#%%\n"
    }
   },
   "outputs": [],
   "source": [
    "cat_cols = ['ocean_proximity']\n",
    "num_cols = ['longitude', 'latitude', 'housing_median_age', 'total_rooms', 'total_bedrooms', 'population', 'households', 'median_income']\n",
    "target = ['median_house_value']"
   ]
  },
  {
   "cell_type": "code",
   "execution_count": 13,
   "metadata": {
    "pycharm": {
     "name": "#%%\n"
    }
   },
   "outputs": [],
   "source": [
    "train_data, test_data = df.randomSplit([0.75, 0.25], seed=RANDOM_SEED)"
   ]
  },
  {
   "cell_type": "code",
   "execution_count": 16,
   "metadata": {
    "pycharm": {
     "name": "#%%\n"
    }
   },
   "outputs": [],
   "source": [
    "indexer = StringIndexer(inputCol=cat_cols[0], outputCol=cat_cols[0]+'_idx')\n",
    "i = indexer.fit(train_data)\n",
    "df_train = i.transform(train_data)\n",
    "df_test = i.transform(test_data)"
   ]
  },
  {
   "cell_type": "code",
   "execution_count": 17,
   "metadata": {
    "pycharm": {
     "name": "#%%\n"
    }
   },
   "outputs": [],
   "source": [
    "encoder = OneHotEncoder(inputCol=cat_cols[0]+'_idx', outputCol=cat_cols[0]+'_ohe')\n",
    "e = encoder.fit(df_train)\n",
    "df_train = e.transform(df_train)\n",
    "df_test = e.transform(df_test)"
   ]
  },
  {
   "cell_type": "code",
   "execution_count": 18,
   "metadata": {
    "pycharm": {
     "name": "#%%\n"
    }
   },
   "outputs": [],
   "source": [
    "categorical_assembler = VectorAssembler(inputCols=[cat_cols[0]+'_ohe'], outputCol='cat_feature')\n",
    "df_train = categorical_assembler.transform(df_train)\n",
    "df_test = categorical_assembler.transform(df_test)"
   ]
  },
  {
   "cell_type": "code",
   "execution_count": 19,
   "metadata": {
    "pycharm": {
     "name": "#%%\n"
    }
   },
   "outputs": [],
   "source": [
    "numerical_assembler = VectorAssembler(inputCols=num_cols, outputCol='num_features')\n",
    "df_train = numerical_assembler.transform(df_train)\n",
    "df_test  = numerical_assembler.transform(df_test)"
   ]
  },
  {
   "cell_type": "code",
   "execution_count": 20,
   "metadata": {
    "pycharm": {
     "name": "#%%\n"
    }
   },
   "outputs": [],
   "source": [
    "standard_scaler = StandardScaler(inputCol='num_features', outputCol='num_features_scaled')\n",
    "s = standard_scaler.fit(df_train)\n",
    "df_train = s.transform(df_train)\n",
    "df_test = s.transform(df_test)"
   ]
  },
  {
   "cell_type": "code",
   "execution_count": 21,
   "metadata": {
    "pycharm": {
     "name": "#%%\n"
    }
   },
   "outputs": [],
   "source": [
    "df_train = VectorAssembler(inputCols=['num_features_scaled', 'cat_feature'], outputCol='features').transform(df_train).select(['features', 'num_features_scaled', target[0]])\n",
    "df_test = VectorAssembler(inputCols=['num_features_scaled', 'cat_feature'], outputCol='features').transform(df_test).select(['features', 'num_features_scaled', target[0]])"
   ]
  },
  {
   "cell_type": "code",
   "execution_count": 22,
   "metadata": {
    "pycharm": {
     "name": "#%%\n"
    }
   },
   "outputs": [],
   "source": [
    "lr_1 = LinearRegression(labelCol=target[0], featuresCol='features')\n",
    "lr_2 = LinearRegression(labelCol=target[0], featuresCol='num_features_scaled')\n",
    "model_1 = lr_1.fit(df_train)\n",
    "model_2 = lr_2.fit(df_train)"
   ]
  },
  {
   "cell_type": "code",
   "execution_count": 23,
   "metadata": {
    "pycharm": {
     "name": "#%%\n"
    }
   },
   "outputs": [],
   "source": [
    "predictions_1 = model_1.transform(df_test)\n",
    "predictions_2 = model_2.transform(df_test)"
   ]
  },
  {
   "cell_type": "code",
   "execution_count": 24,
   "metadata": {
    "pycharm": {
     "name": "#%%\n"
    }
   },
   "outputs": [],
   "source": [
    "class Metric_model(object):\n",
    "    '''Class for get metrics for linear regression'''\n",
    "    def __init__(self, data: DataFrame) -> None:\n",
    "        '''init metod, create predictions'''\n",
    "        self.predictions = data\n",
    "\n",
    "    def get_rmse(self) -> float:\n",
    "        '''get rmse metric for given data'''\n",
    "        self.rmse = RegressionEvaluator(labelCol='median_house_value', predictionCol='prediction', metricName='rmse').evaluate(self.predictions)\n",
    "        return self.rmse\n",
    "\n",
    "    def get_mae(self) -> float:\n",
    "        '''get mae metric for given data'''\n",
    "        self.mae = RegressionEvaluator(labelCol='median_house_value', predictionCol='prediction', metricName='mae').evaluate(self.predictions)\n",
    "        return self.mae\n",
    "\n",
    "    def get_r2(self) -> float:\n",
    "        '''get r2 metric for given data'''\n",
    "        self.r2 = RegressionEvaluator(labelCol='median_house_value', predictionCol='prediction', metricName='r2').evaluate(self.predictions)\n",
    "        return self.r2"
   ]
  },
  {
   "cell_type": "code",
   "execution_count": 25,
   "metadata": {
    "pycharm": {
     "name": "#%%\n"
    }
   },
   "outputs": [],
   "source": [
    "m1 = Metric_model(predictions_1)\n",
    "m2 = Metric_model(predictions_2)"
   ]
  },
  {
   "cell_type": "code",
   "execution_count": 26,
   "metadata": {
    "pycharm": {
     "name": "#%%\n"
    }
   },
   "outputs": [
    {
     "name": "stdout",
     "output_type": "stream",
     "text": [
      "Метрики для модели, которая обучалась с категориальными признаками.\n",
      "- RMSE: 69384.90655109576\n",
      "- MAE: 50370.513218278786\n",
      "- R2: 0.6313211846421067\n"
     ]
    }
   ],
   "source": [
    "print(f'Метрики для модели, которая обучалась с категориальными признаками.\\n- RMSE: {m1.get_rmse()}\\n- MAE: {m1.get_mae()}\\n- R2: {m1.get_r2()}')"
   ]
  },
  {
   "cell_type": "code",
   "execution_count": 27,
   "metadata": {
    "pycharm": {
     "name": "#%%\n"
    }
   },
   "outputs": [
    {
     "name": "stdout",
     "output_type": "stream",
     "text": [
      "Метрики для модели, которая обучалась без категориальных признаков.\n",
      "- RMSE: 70323.11283842972\n",
      "- MAE: 51401.07031616258\n",
      "- R2: 0.621283400717439\n"
     ]
    }
   ],
   "source": [
    "print(f'Метрики для модели, которая обучалась без категориальных признаков.\\n- RMSE: {m2.get_rmse()}\\n- MAE: {m2.get_mae()}\\n- R2: {m2.get_r2()}')"
   ]
  },
  {
   "cell_type": "code",
   "execution_count": 28,
   "metadata": {
    "pycharm": {
     "name": "#%%\n"
    }
   },
   "outputs": [],
   "source": [
    "spark.stop()"
   ]
  },
  {
   "cell_type": "markdown",
   "metadata": {
    "pycharm": {
     "name": "#%% md\n"
    }
   },
   "source": [
    "# Выводы"
   ]
  },
  {
   "cell_type": "markdown",
   "metadata": {
    "pycharm": {
     "name": "#%% md\n"
    }
   },
   "source": [
    "В ходе данного проекта были загружены и изучены данные о жилье в Калифорнии в 1990 году. Данные были предобработанны, проверены на наличие пропусков, заполненны пропуски. С использованием библиотеки Spark на основе данных были обучены две модели линейной регрессии. Первая модель обучалась на полных данных с использованием категориальных признаков, а вторая моедль обучалась только на численных полях. На обеих моделях были получены предсказания и вычислены метрики. Значения метрик показывают, что модель, которая использовала категориальные признаки, делает предсказания точнее\n",
    "\n"
   ]
  }
 ],
 "metadata": {
  "ExecuteTimeLog": [
   {
    "duration": 3,
    "start_time": "2024-12-17T16:49:26.382Z"
   },
   {
    "duration": 307,
    "start_time": "2024-12-17T16:49:26.386Z"
   },
   {
    "duration": 14597,
    "start_time": "2024-12-17T16:49:26.694Z"
   },
   {
    "duration": 7390,
    "start_time": "2024-12-17T16:49:41.292Z"
   },
   {
    "duration": 67,
    "start_time": "2024-12-17T16:49:48.684Z"
   },
   {
    "duration": 934,
    "start_time": "2024-12-17T16:49:48.752Z"
   },
   {
    "duration": 581,
    "start_time": "2024-12-17T16:49:49.689Z"
   },
   {
    "duration": 2216,
    "start_time": "2024-12-17T16:49:50.273Z"
   },
   {
    "duration": 0,
    "start_time": "2024-12-17T16:49:52.490Z"
   },
   {
    "duration": 0,
    "start_time": "2024-12-17T16:49:52.491Z"
   },
   {
    "duration": 0,
    "start_time": "2024-12-17T16:49:52.492Z"
   },
   {
    "duration": 0,
    "start_time": "2024-12-17T16:49:52.493Z"
   },
   {
    "duration": 13787,
    "start_time": "2024-12-17T16:53:30.718Z"
   },
   {
    "duration": 449,
    "start_time": "2024-12-17T16:54:02.297Z"
   },
   {
    "duration": 421,
    "start_time": "2024-12-17T16:54:20.399Z"
   },
   {
    "duration": 8242,
    "start_time": "2024-12-17T16:54:58.407Z"
   },
   {
    "duration": 4,
    "start_time": "2024-12-17T16:56:01.160Z"
   },
   {
    "duration": 14527,
    "start_time": "2024-12-17T16:56:04.242Z"
   },
   {
    "duration": 7585,
    "start_time": "2024-12-17T16:56:18.771Z"
   },
   {
    "duration": 14,
    "start_time": "2024-12-17T16:56:26.358Z"
   },
   {
    "duration": 1027,
    "start_time": "2024-12-17T16:56:26.373Z"
   },
   {
    "duration": 613,
    "start_time": "2024-12-17T16:56:27.446Z"
   },
   {
    "duration": 801,
    "start_time": "2024-12-17T16:56:28.061Z"
   },
   {
    "duration": 3,
    "start_time": "2024-12-17T16:58:09.319Z"
   },
   {
    "duration": 405,
    "start_time": "2024-12-17T16:58:09.324Z"
   },
   {
    "duration": 14754,
    "start_time": "2024-12-17T16:58:09.731Z"
   },
   {
    "duration": 7571,
    "start_time": "2024-12-17T16:58:24.487Z"
   },
   {
    "duration": 14,
    "start_time": "2024-12-17T16:58:32.060Z"
   },
   {
    "duration": 971,
    "start_time": "2024-12-17T16:58:32.076Z"
   },
   {
    "duration": 523,
    "start_time": "2024-12-17T16:58:33.049Z"
   },
   {
    "duration": 871,
    "start_time": "2024-12-17T16:58:33.574Z"
   },
   {
    "duration": 331,
    "start_time": "2024-12-17T16:58:46.427Z"
   },
   {
    "duration": 355,
    "start_time": "2024-12-17T16:58:58.897Z"
   },
   {
    "duration": 209,
    "start_time": "2024-12-17T16:59:27.837Z"
   },
   {
    "duration": 1294,
    "start_time": "2024-12-17T16:59:48.857Z"
   },
   {
    "duration": 349,
    "start_time": "2024-12-17T17:00:20.938Z"
   },
   {
    "duration": 5822,
    "start_time": "2024-12-17T17:01:58.458Z"
   },
   {
    "duration": 48,
    "start_time": "2024-12-17T17:02:32.000Z"
   },
   {
    "duration": 4,
    "start_time": "2024-12-17T17:02:41.567Z"
   },
   {
    "duration": 299,
    "start_time": "2024-12-17T17:02:41.572Z"
   },
   {
    "duration": 14905,
    "start_time": "2024-12-17T17:02:41.872Z"
   },
   {
    "duration": 7771,
    "start_time": "2024-12-17T17:02:56.781Z"
   },
   {
    "duration": 13,
    "start_time": "2024-12-17T17:03:04.553Z"
   },
   {
    "duration": 987,
    "start_time": "2024-12-17T17:03:04.568Z"
   },
   {
    "duration": 598,
    "start_time": "2024-12-17T17:03:05.557Z"
   },
   {
    "duration": 1722,
    "start_time": "2024-12-17T17:03:06.157Z"
   },
   {
    "duration": 1122,
    "start_time": "2024-12-17T17:03:32.739Z"
   },
   {
    "duration": 792,
    "start_time": "2024-12-17T17:05:53.278Z"
   },
   {
    "duration": 725,
    "start_time": "2024-12-17T17:06:37.529Z"
   },
   {
    "duration": 3,
    "start_time": "2024-12-17T17:07:00.379Z"
   },
   {
    "duration": 348,
    "start_time": "2024-12-17T17:07:00.386Z"
   },
   {
    "duration": 14157,
    "start_time": "2024-12-17T17:07:00.736Z"
   },
   {
    "duration": 7460,
    "start_time": "2024-12-17T17:07:14.946Z"
   },
   {
    "duration": 50,
    "start_time": "2024-12-17T17:07:22.408Z"
   },
   {
    "duration": 899,
    "start_time": "2024-12-17T17:07:22.460Z"
   },
   {
    "duration": 599,
    "start_time": "2024-12-17T17:07:23.361Z"
   },
   {
    "duration": 1719,
    "start_time": "2024-12-17T17:07:23.962Z"
   },
   {
    "duration": 6488,
    "start_time": "2024-12-17T17:07:25.682Z"
   },
   {
    "duration": 137,
    "start_time": "2024-12-17T17:07:32.173Z"
   },
   {
    "duration": 0,
    "start_time": "2024-12-17T17:07:32.311Z"
   },
   {
    "duration": 0,
    "start_time": "2024-12-17T17:07:32.312Z"
   },
   {
    "duration": 39585,
    "start_time": "2024-12-17T17:07:59.619Z"
   },
   {
    "duration": 2969,
    "start_time": "2024-12-17T17:09:12.710Z"
   },
   {
    "duration": 317,
    "start_time": "2024-12-17T17:09:15.681Z"
   },
   {
    "duration": 13358,
    "start_time": "2024-12-17T17:09:15.999Z"
   },
   {
    "duration": 10887,
    "start_time": "2024-12-17T17:09:29.359Z"
   },
   {
    "duration": 5,
    "start_time": "2024-12-17T17:09:40.248Z"
   },
   {
    "duration": 1613,
    "start_time": "2024-12-17T17:09:40.255Z"
   },
   {
    "duration": 611,
    "start_time": "2024-12-17T17:09:41.870Z"
   },
   {
    "duration": 2001,
    "start_time": "2024-12-17T17:09:42.546Z"
   },
   {
    "duration": 2218,
    "start_time": "2024-12-17T17:09:44.549Z"
   },
   {
    "duration": 1000,
    "start_time": "2024-12-17T17:09:46.768Z"
   },
   {
    "duration": 949,
    "start_time": "2024-12-17T17:10:06.738Z"
   },
   {
    "duration": 2,
    "start_time": "2024-12-17T17:10:15.378Z"
   }
  ],
  "kernelspec": {
   "display_name": "Python 3 (ipykernel)",
   "language": "python",
   "name": "python3"
  },
  "language_info": {
   "codemirror_mode": {
    "name": "ipython",
    "version": 3
   },
   "file_extension": ".py",
   "mimetype": "text/x-python",
   "name": "python",
   "nbconvert_exporter": "python",
   "pygments_lexer": "ipython3",
   "version": "3.11.11"
  },
  "toc": {
   "base_numbering": 1,
   "nav_menu": {},
   "number_sections": true,
   "sideBar": true,
   "skip_h1_title": true,
   "title_cell": "Table of Contents",
   "title_sidebar": "Contents",
   "toc_cell": false,
   "toc_position": {
    "height": "calc(100% - 180px)",
    "left": "10px",
    "top": "150px",
    "width": "236.6px"
   },
   "toc_section_display": true,
   "toc_window_display": false
  },
  "varInspector": {
   "cols": {
    "lenName": 16,
    "lenType": 16,
    "lenVar": 40
   },
   "kernels_config": {
    "python": {
     "delete_cmd_postfix": "",
     "delete_cmd_prefix": "del ",
     "library": "var_list.py",
     "varRefreshCmd": "print(var_dic_list())"
    },
    "r": {
     "delete_cmd_postfix": ") ",
     "delete_cmd_prefix": "rm(",
     "library": "var_list.r",
     "varRefreshCmd": "cat(var_dic_list()) "
    }
   },
   "types_to_exclude": [
    "module",
    "function",
    "builtin_function_or_method",
    "instance",
    "_Feature"
   ],
   "window_display": false
  }
 },
 "nbformat": 4,
 "nbformat_minor": 1
}
